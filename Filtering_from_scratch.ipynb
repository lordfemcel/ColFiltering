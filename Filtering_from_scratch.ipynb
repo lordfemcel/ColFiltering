{
  "nbformat": 4,
  "nbformat_minor": 0,
  "metadata": {
    "colab": {
      "provenance": [],
      "authorship_tag": "ABX9TyPkFeLojZ04clikv6HR8ohH"
    },
    "kernelspec": {
      "name": "python3",
      "display_name": "Python 3"
    },
    "language_info": {
      "name": "python"
    }
  },
  "cells": [
    {
      "cell_type": "code",
      "execution_count": 29,
      "metadata": {
        "id": "4Ki9KHGbAf-G"
      },
      "outputs": [],
      "source": [
        "#!pip install torch pandas numpy scikit-learn --quiet"
      ]
    },
    {
      "cell_type": "code",
      "source": [
        "import pandas as pd\n",
        "\n",
        "# Download MovieLens 100k data\n",
        "!wget -nc https://files.grouplens.org/datasets/movielens/ml-100k/u.data\n",
        "\n",
        "# Load ratings\n",
        "ml_ratings = pd.read_csv('u.data', sep='\\t', names=['user', 'item', 'rating', 'timestamp'])\n",
        "ml_ratings['user'] -= 1\n",
        "ml_ratings['item'] -= 1\n",
        "ml_ratings['rating'] = (ml_ratings['rating'] > 0).astype(int)  # Binarize ratings\n",
        "\n",
        "num_users = ml_ratings['user'].nunique()\n",
        "num_items = ml_ratings['item'].nunique()"
      ],
      "metadata": {
        "colab": {
          "base_uri": "https://localhost:8080/"
        },
        "id": "ETPpvmOfAoHE",
        "outputId": "3445b13f-6d9f-4925-8233-1a213fd04d50"
      },
      "execution_count": null,
      "outputs": [
        {
          "output_type": "stream",
          "name": "stdout",
          "text": [
            "File ‘u.data’ already there; not retrieving.\n",
            "\n"
          ]
        }
      ]
    },
    {
      "cell_type": "code",
      "source": [
        "# data.py\n",
        "import numpy as np\n",
        "import torch\n",
        "from torch.utils.data import Dataset\n",
        "\n",
        "class UserItemRatingDataset(Dataset):\n",
        "    def __init__(self, user_item_pairs, ratings, num_items, num_ng=4, is_training=True):\n",
        "        self.user_item_pairs = user_item_pairs\n",
        "        self.ratings = ratings\n",
        "        self.num_items = num_items\n",
        "        self.num_ng = num_ng\n",
        "        self.is_training = is_training\n",
        "        if is_training:\n",
        "            self._ng_sample()\n",
        "        else:\n",
        "            self.data = [(u, i, r) for (u, i), r in zip(self.user_item_pairs, self.ratings)]\n",
        "    def _ng_sample(self):\n",
        "        self.data = []\n",
        "        user_item_set = set(self.user_item_pairs)\n",
        "        for idx, ((u, i), r) in enumerate(zip(self.user_item_pairs, self.ratings)):\n",
        "            self.data.append((u, i, r))\n",
        "            for _ in range(self.num_ng):\n",
        "                j = np.random.randint(self.num_items)\n",
        "                while (u, j) in user_item_set:\n",
        "                    j = np.random.randint(self.num_items)\n",
        "                self.data.append((u, j, 0))\n",
        "    def __len__(self):\n",
        "        return len(self.data)\n",
        "    def __getitem__(self, idx):\n",
        "        u, i, r = self.data[idx]\n",
        "        return torch.LongTensor([u]), torch.LongTensor([i]), torch.FloatTensor([r])\n",
        "\n",
        "class SampleGenerator:\n",
        "    def __init__(self, ratings):\n",
        "        # Split train/test (leave one out for test)\n",
        "        self.ratings = ratings\n",
        "        self.train_pairs, self.train_ratings, self.test_pairs, self.test_ratings = self._split()\n",
        "    def _split(self):\n",
        "        train_pairs, train_ratings = [], []\n",
        "        test_pairs, test_ratings = [], []\n",
        "        ratings_group = self.ratings.groupby('user')\n",
        "        for user, group in ratings_group:\n",
        "            group = group.sort_values('timestamp')\n",
        "            test = group.iloc[-1]\n",
        "            train = group.iloc[:-1]\n",
        "            for _, row in train.iterrows():\n",
        "                train_pairs.append((int(row['user']), int(row['item'])))\n",
        "                train_ratings.append(int(row['rating']))\n",
        "            test_pairs.append((int(test['user']), int(test['item'])))\n",
        "            test_ratings.append(int(test['rating']))\n",
        "        return train_pairs, train_ratings, test_pairs, test_ratings"
      ],
      "metadata": {
        "id": "LsyjJRFOAoOr"
      },
      "execution_count": null,
      "outputs": []
    },
    {
      "cell_type": "code",
      "source": [
        "%%writefile gmf.py\n",
        "# gmf.py\n",
        "import torch\n",
        "import torch.nn as nn\n",
        "\n",
        "class GMF(nn.Module):\n",
        "    def __init__(self, num_users, num_items, embedding_dim):\n",
        "        super(GMF, self).__init__()\n",
        "        self.user_embedding = nn.Embedding(num_users, embedding_dim)\n",
        "        self.item_embedding = nn.Embedding(num_items, embedding_dim)\n",
        "        self.output = nn.Linear(embedding_dim, 1)\n",
        "        self.sigmoid = nn.Sigmoid()\n",
        "        self._init_weights_()\n",
        "    def _init_weights_(self):\n",
        "        nn.init.normal_(self.user_embedding.weight, std=0.01)\n",
        "        nn.init.normal_(self.item_embedding.weight, std=0.01)\n",
        "        nn.init.xavier_uniform_(self.output.weight)\n",
        "        if self.output.bias is not None:\n",
        "            nn.init.zeros_(self.output.bias)\n",
        "    def forward(self, user_indices, item_indices):\n",
        "        user_embeds = self.user_embedding(user_indices)\n",
        "        item_embeds = self.item_embedding(item_indices)\n",
        "        elementwise_product = user_embeds * item_embeds\n",
        "        logits = self.output(elementwise_product)\n",
        "        rating = self.sigmoid(logits)\n",
        "        return rating.view(-1)"
      ],
      "metadata": {
        "colab": {
          "base_uri": "https://localhost:8080/"
        },
        "id": "C3WnCBqCAoRs",
        "outputId": "243ea654-b4d2-4545-8f66-34a3aa266d30"
      },
      "execution_count": null,
      "outputs": [
        {
          "output_type": "stream",
          "name": "stdout",
          "text": [
            "Overwriting gmf.py\n"
          ]
        }
      ]
    },
    {
      "cell_type": "code",
      "source": [
        "%%writefile engine.py\n",
        "# engine.py\n",
        "import torch\n",
        "import torch.nn as nn\n",
        "import torch.optim as optim\n",
        "import numpy as np\n",
        "\n",
        "class Engine(object):\n",
        "    def __init__(self, config):\n",
        "        self.model = None\n",
        "        self.device = torch.device(\"cuda\" if config['use_cuda'] else \"cpu\")\n",
        "        self.criterion = nn.BCELoss()\n",
        "        if config['optimizer'] == 'adam':\n",
        "            self.optimizer = lambda model: optim.Adam(model.parameters(), lr=config['adam_lr'], weight_decay=config['l2_regularization'])\n",
        "        else:\n",
        "            self.optimizer = lambda model: optim.SGD(model.parameters(), lr=config['adam_lr'], weight_decay=config['l2_regularization'])\n",
        "        self.config = config\n",
        "\n",
        "\n",
        "\n",
        "\n",
        "\n",
        "\n",
        "    def train_an_epoch(self, train_loader, epoch):\n",
        "        self.model.train()\n",
        "        optimizer = self.optimizer(self.model)\n",
        "        total_loss = 0\n",
        "        for user, item, label in train_loader:\n",
        "            user = user.view(-1).to(self.device)\n",
        "            item = item.view(-1).to(self.device)\n",
        "            label = label.view(-1).to(self.device)\n",
        "            self.model.zero_grad()\n",
        "            prediction = self.model(user, item)\n",
        "            loss = self.criterion(prediction, label)\n",
        "            loss.backward()\n",
        "            optimizer.step()\n",
        "            total_loss += loss.item()\n",
        "            avg_loss = total_loss / len(train_loader)\n",
        "\n",
        "        print(f\"Epoch {epoch} Average Training Loss: {avg_loss:.4f}\")\n",
        "\n",
        "\n",
        "    def evaluate(self, evaluate_data, epoch, k=10):\n",
        "        self.model.eval()\n",
        "        test_users, test_items, neg_users, neg_items = evaluate_data\n",
        "        hits, ndcgs = [], []\n",
        "        num_users = len(test_users)\n",
        "        with torch.no_grad():\n",
        "            for idx in range(num_users):\n",
        "                u = test_users[idx].item()\n",
        "                gtItem = test_items[idx].item()\n",
        "                # 99 negative + 1 positive\n",
        "                item_candidates = [gtItem]\n",
        "                # 99 negatives for this user\n",
        "                item_candidates += [neg_items[i].item() for i in range(idx*99, (idx+1)*99)]\n",
        "                users = torch.LongTensor([u]*100).to(self.device)\n",
        "                items = torch.LongTensor(item_candidates).to(self.device)\n",
        "                predictions = self.model(users, items)\n",
        "                _, indices = torch.topk(predictions, k)\n",
        "                recommends = torch.take(torch.tensor(item_candidates), indices.cpu())\n",
        "                hr = int(gtItem in recommends)\n",
        "                if hr:\n",
        "                    rank = (recommends == gtItem).nonzero(as_tuple=True)[0].item() + 1\n",
        "                    ndcg = np.log(2) / np.log(rank + 1)\n",
        "                else:\n",
        "                    ndcg = 0\n",
        "                hits.append(hr)\n",
        "                ndcgs.append(ndcg)\n",
        "        hr_avg = np.mean(hits)\n",
        "        ndcg_avg = np.mean(ndcgs)\n",
        "        print(f\"Epoch {epoch} HR@{k}: {hr_avg:.4f}, NDCG@{k}: {ndcg_avg:.4f}\")\n",
        "        return hr_avg, ndcg_avg\n",
        "\n",
        "    def save(self, alias, epoch, hr, ndcg):\n",
        "        path = f\"{alias}_epoch{epoch}_hr{hr:.4f}_ndcg{ndcg:.4f}.pth\"\n",
        "        torch.save(self.model.state_dict(), path)\n",
        "        print(f\"Model saved to {path}\")"
      ],
      "metadata": {
        "colab": {
          "base_uri": "https://localhost:8080/"
        },
        "id": "f9IlJDsKAoUb",
        "outputId": "204dd9db-ba40-4c25-93eb-cdd8afbea41f"
      },
      "execution_count": null,
      "outputs": [
        {
          "output_type": "stream",
          "name": "stdout",
          "text": [
            "Overwriting engine.py\n"
          ]
        }
      ]
    },
    {
      "cell_type": "code",
      "source": [
        "#SampleGenerator\n",
        "sample_generator = SampleGenerator(ratings=ml_ratings)\n",
        "\n",
        "train_dataset = UserItemRatingDataset(\n",
        "    user_item_pairs=sample_generator.train_pairs,\n",
        "    ratings=sample_generator.train_ratings,\n",
        "    num_items=num_items,\n",
        "    num_ng=4,\n",
        "    is_training=True\n",
        ")\n",
        "\n",
        "from torch.utils.data import DataLoader\n",
        "train_loader = DataLoader(train_dataset, batch_size=256, shuffle=True, num_workers=2)\n",
        "\n",
        "# Prepare test set and 99 negatives per user for evaluation\n",
        "import torch\n",
        "import numpy as np\n",
        "\n",
        "test_users = []\n",
        "test_items = []\n",
        "neg_users = []\n",
        "neg_items = []\n",
        "\n",
        "user_item_set = set(zip(ml_ratings['user'], ml_ratings['item']))\n",
        "for idx, (u, i) in enumerate(sample_generator.test_pairs):\n",
        "    test_users.append(u)\n",
        "    test_items.append(i)\n",
        "    negatives = set()\n",
        "    while len(negatives) < 99:\n",
        "        neg = np.random.randint(num_items)\n",
        "        if (u, neg) not in user_item_set:\n",
        "            negatives.add(neg)\n",
        "    for ni in negatives:\n",
        "        neg_users.append(u)\n",
        "        neg_items.append(ni)\n",
        "\n",
        "test_users = torch.LongTensor(test_users)\n",
        "test_items = torch.LongTensor(test_items)\n",
        "neg_users = torch.LongTensor(neg_users)\n",
        "neg_items = torch.LongTensor(neg_items)\n",
        "evaluate_data = (test_users, test_items, neg_users, neg_items)"
      ],
      "metadata": {
        "id": "E7dwmoHuAoW9"
      },
      "execution_count": null,
      "outputs": []
    },
    {
      "cell_type": "code",
      "source": [
        "# Debugging\n",
        "import torch\n",
        "\n",
        "model.eval()\n",
        "with torch.no_grad():\n",
        "    for i, (user, item, label) in enumerate(train_loader):\n",
        "        user = user.view(-1).to(engine.device)\n",
        "        item = item.view(-1).to(engine.device)\n",
        "        label = label.view(-1).float().to(engine.device)\n",
        "        output = model(user, item)\n",
        "        print(\"Sample labels:\", label[:10].cpu().numpy())\n",
        "        print(\"Sample predictions:\", output[:10].cpu().numpy())\n",
        "        print(\"Min/max predictions:\", output.min().item(), output.max().item())\n",
        "        loss_fn = torch.nn.BCELoss()\n",
        "        loss = loss_fn(output, label)\n",
        "        print(f\"Loss for this batch: {loss.item():.4f}\")\n",
        "        break"
      ],
      "metadata": {
        "colab": {
          "base_uri": "https://localhost:8080/"
        },
        "id": "w6yOSZ6kFeE7",
        "outputId": "1354eb2b-34f7-47a1-b84e-655229665a86"
      },
      "execution_count": 30,
      "outputs": [
        {
          "output_type": "stream",
          "name": "stdout",
          "text": [
            "Sample labels: [0. 1. 0. 0. 0. 0. 0. 0. 1. 1.]\n",
            "Sample predictions: [6.4712411e-01 2.0739625e-01 3.8611587e-02 3.3338845e-02 4.6096509e-03\n",
            " 4.0145665e-02 2.8039375e-04 5.8519816e-01 8.3990562e-01 3.5061392e-01]\n",
            "Min/max predictions: 5.736940238421084e-07 0.9773573279380798\n",
            "Loss for this batch: 0.2721\n"
          ]
        }
      ]
    },
    {
      "cell_type": "code",
      "source": [
        "from gmf import GMF\n",
        "from engine import Engine\n",
        "\n",
        "config = {\n",
        "    'alias': 'gmf-movielens',\n",
        "    'num_users': num_users,\n",
        "    'num_items': num_items,\n",
        "    'embedding_dim': 32,\n",
        "    'optimizer': 'adam',\n",
        "    'adam_lr': 0.001,\n",
        "    'l2_regularization': 0.0,\n",
        "    'batch_size': 256,\n",
        "    'device_id': 0,\n",
        "    'use_cuda': torch.cuda.is_available(),\n",
        "    'model_dir': 'models/gmf_{}_epoch{}_hr{:.4f}_ndcg{:.4f}.pth'\n",
        "}\n",
        "\n",
        "model = GMF(config['num_users'], config['num_items'], config['embedding_dim'])\n",
        "engine = Engine(config)\n",
        "engine.model = model.to(engine.device)\n",
        "\n",
        "epochs = 5\n",
        "for epoch in range(1, epochs + 1):\n",
        "    engine.train_an_epoch(train_loader, epoch)\n",
        "    hr, ndcg = engine.evaluate(evaluate_data, epoch)\n",
        "    #engine.save(config['alias'], epoch, hr, ndcg)\n",
        "    #print(f\"Epoch {epoch} - HR: {hr:.4f}, NDCG: {ndcg:.4f}\")"
      ],
      "metadata": {
        "colab": {
          "base_uri": "https://localhost:8080/"
        },
        "id": "1uezdlm0AoZ5",
        "outputId": "31bbf306-a495-499d-f8bb-b4f585b202f0"
      },
      "execution_count": null,
      "outputs": [
        {
          "output_type": "stream",
          "name": "stdout",
          "text": [
            "Epoch 1 Average Training Loss: 0.4177\n",
            "Epoch 1 HR@10: 0.4337, NDCG@10: 0.2372\n",
            "Epoch 2 Average Training Loss: 0.3294\n",
            "Epoch 2 HR@10: 0.5027, NDCG@10: 0.2796\n",
            "Epoch 3 Average Training Loss: 0.3038\n",
            "Epoch 3 HR@10: 0.5355, NDCG@10: 0.2993\n",
            "Epoch 4 Average Training Loss: 0.2891\n",
            "Epoch 4 HR@10: 0.5546, NDCG@10: 0.3126\n",
            "Epoch 5 Average Training Loss: 0.2782\n",
            "Epoch 5 HR@10: 0.5673, NDCG@10: 0.3221\n"
          ]
        }
      ]
    },
    {
      "cell_type": "code",
      "source": [
        "#training loss\n",
        "import matplotlib.pyplot as plt\n",
        "\n",
        "epoch_train_losses=[0.4177,0.3294,0.3038,0.2891,0.2782]\n",
        "\n",
        "plt.figure(figsize=(8, 5))\n",
        "plt.plot(range(1, len(epoch_train_losses) + 1), epoch_train_losses, marker='o', color='b')\n",
        "plt.xlabel('Epoch')\n",
        "plt.ylabel('Average Training Loss')\n",
        "plt.title('Epoch vs Training Loss')\n",
        "plt.grid(True)\n",
        "plt.show()"
      ],
      "metadata": {
        "colab": {
          "base_uri": "https://localhost:8080/",
          "height": 487
        },
        "id": "DkY-2IbcR8hu",
        "outputId": "e7a5708e-e2c7-4d94-ba6b-d0cb125b44b5"
      },
      "execution_count": null,
      "outputs": [
        {
          "output_type": "display_data",
          "data": {
            "text/plain": [
              "<Figure size 800x500 with 1 Axes>"
            ],
            "image/png": "[encoded data removed]"
          },
          "metadata": {}
        }
      ]
    }
  ]
}